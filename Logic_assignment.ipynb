{
 "cells": [
  {
   "cell_type": "markdown",
   "metadata": {},
   "source": [
    "### Working with SymPy for Proposition Logic"
   ]
  },
  {
   "cell_type": "markdown",
   "metadata": {},
   "source": [
    "# 2.3 SymPy assignment\n"
   ]
  },
  {
   "cell_type": "markdown",
   "metadata": {},
   "source": [
    "# Setup"
   ]
  },
  {
   "cell_type": "markdown",
   "metadata": {},
   "source": [
    "### Import statements for SymPy package"
   ]
  },
  {
   "cell_type": "code",
   "execution_count": 68,
   "metadata": {},
   "outputs": [],
   "source": [
    "from sympy import *\n",
    "from tabulate import tabulate"
   ]
  },
  {
   "cell_type": "markdown",
   "metadata": {},
   "source": [
    "### Setup of symbols"
   ]
  },
  {
   "cell_type": "code",
   "execution_count": 69,
   "metadata": {},
   "outputs": [],
   "source": [
    "p, q, r, t = symbols('p q r t') #declare the symboles used"
   ]
  },
  {
   "cell_type": "markdown",
   "metadata": {},
   "source": [
    "### Evaluating truth tables"
   ]
  },
  {
   "cell_type": "code",
   "execution_count": 70,
   "metadata": {},
   "outputs": [],
   "source": [
    "def new_basic_table():\n",
    "    table = {\"p\": [\"T\"] * 16 + [\"F\"] * 16,\n",
    "             \"q\": ([\"T\"] * 8 + [\"F\"] * 8) * 2,\n",
    "             \"r\": ([\"T\"] * 4 + [\"F\"] * 4) * 4,\n",
    "             \"t\": [\"T\", \"F\"] * 16}\n",
    "\n",
    "    return table"
   ]
  },
  {
   "cell_type": "code",
   "execution_count": 71,
   "metadata": {},
   "outputs": [],
   "source": [
    "def tte(inp):\n",
    "    if inp == \"T\":\n",
    "        return true\n",
    "    elif inp == \"F\":\n",
    "        return false"
   ]
  },
  {
   "cell_type": "code",
   "execution_count": 72,
   "metadata": {},
   "outputs": [],
   "source": [
    "def add_logical_statement(table, statement):\n",
    "    row_entries = []\n",
    "    symbols = list(statement.atoms())\n",
    "    table_copy = table.copy()\n",
    "\n",
    "    #remove these three lines to always show all five symbols\n",
    "    irrelevant = [i for i in list(table.keys()) if i not in [str(i) for i in symbols]]\n",
    "    for symbol in irrelevant:\n",
    "        del table_copy[symbol]\n",
    "        \n",
    "\n",
    "    if len(symbols) == 2:\n",
    "        sym_1, sym_2 = symbols[0], symbols[1]\n",
    "        for i in range(32):\n",
    "            row_entries.append(statement.subs({sym_1: tte(table[str(sym_1)][i]), sym_2: tte(table[str(sym_2)][i])}))\n",
    "\n",
    "    elif len(symbols) == 3:\n",
    "        sym_1, sym_2, sym_3 = symbols[0], symbols[1], symbols[2]\n",
    "        for i in range(32):\n",
    "            row_entries.append(statement.subs({sym_1: tte(table[str(sym_1)][i]),\n",
    "                                               sym_2: tte(table[str(sym_2)][i]),\n",
    "                                               sym_3: tte(table[str(sym_3)][i])}))\n",
    "\n",
    "    elif len(symbols) == 4:\n",
    "        sym_1, sym_2, sym_3, sym_4 = symbols[0], symbols[1], symbols[2], symbols[3]\n",
    "        for i in range(32):\n",
    "            row_entries.append(statement.subs({sym_1: tte(table[str(sym_1)][i]),\n",
    "                                               sym_2: tte(table[str(sym_2)][i]),\n",
    "                                               sym_3: tte(table[str(sym_3)][i]),\n",
    "                                               sym_4: tte(table[str(sym_4)][i])}))\n",
    "\n",
    "    elif (len(symbols)) == 5:\n",
    "        sym_1, sym_2, sym_3, sym_4, sym_5 = symbols[0], symbols[1], symbols[2], symbols[3], symbols[4]\n",
    "        for i in range(32):\n",
    "            row_entries.append(statement.subs({sym_1: tte(table[str(sym_1)][i]),\n",
    "                                               sym_2: tte(table[str(sym_2)][i]),\n",
    "                                               sym_3: tte(table[str(sym_3)][i]),\n",
    "                                               sym_4: tte(table[str(sym_4)][i]),\n",
    "                                               sym_5: tte(table[str(sym_5)][i])}))\n",
    "\n",
    "    table[statement] = row_entries\n",
    "\n",
    "    return table"
   ]
  },
  {
   "cell_type": "markdown",
   "metadata": {},
   "source": [
    "# Assignment"
   ]
  },
  {
   "cell_type": "markdown",
   "metadata": {},
   "source": [
    "Pick a propositional logic formula from the table based:\n",
    "![assignment-wk2-logic-table.png](assignment-wk2-logic-table.png)\n",
    "\n",
    "1. Take the first character of your first name, and the last character of your last name. E.g. if your name is Tom Turing, your characters are T and G.\n",
    "2. Pick two formulas A and B from the table, and define A and B as variables\n",
    "3. Define AndAB (as A and B), OrAB (as A or B) ImpliesAB (as A implies B) and ImpliesBA\n",
    "4. Print your variables. \n"
   ]
  },
  {
   "cell_type": "markdown",
   "metadata": {},
   "source": [
    "### Assignment step 1"
   ]
  },
  {
   "cell_type": "markdown",
   "metadata": {},
   "source": [
    "Make truth tables for each formula. Count how often each formula is true and how often it is false (you can count by hand and pout answer in comment. Bonus point for counting using a python function that you define).\n"
   ]
  },
  {
   "cell_type": "code",
   "execution_count": 73,
   "metadata": {
    "scrolled": true
   },
   "outputs": [
    {
     "name": "stdout",
     "output_type": "stream",
     "text": [
      "| p   | q   | r   | t   | A     | B     | AndAB   | OrAB   | ImpliesAB   | ImpliesBA   |\n",
      "|-----+-----+-----+-----+-------+-------+---------+--------+-------------+-------------|\n",
      "| T   | T   | T   | T   | False | False | False   | False  | True        | True        |\n",
      "| T   | T   | T   | F   | False | False | False   | False  | True        | True        |\n",
      "| T   | T   | T   | T   | False | False | False   | False  | True        | True        |\n",
      "| T   | T   | T   | F   | False | False | False   | False  | True        | True        |\n",
      "| T   | T   | F   | T   | True  | False | False   | True   | False       | True        |\n",
      "| T   | T   | F   | F   | True  | True  | True    | True   | True        | True        |\n",
      "| T   | T   | F   | T   | True  | False | False   | True   | False       | True        |\n",
      "| T   | T   | F   | F   | True  | True  | True    | True   | True        | True        |\n",
      "| T   | F   | T   | T   | True  | True  | True    | True   | True        | True        |\n",
      "| T   | F   | T   | F   | True  | False | False   | True   | False       | True        |\n",
      "| T   | F   | T   | T   | True  | True  | True    | True   | True        | True        |\n",
      "| T   | F   | T   | F   | True  | False | False   | True   | False       | True        |\n",
      "| T   | F   | F   | T   | True  | True  | True    | True   | True        | True        |\n",
      "| T   | F   | F   | F   | True  | True  | True    | True   | True        | True        |\n",
      "| T   | F   | F   | T   | True  | True  | True    | True   | True        | True        |\n",
      "| T   | F   | F   | F   | True  | True  | True    | True   | True        | True        |\n",
      "| F   | T   | T   | T   | False | False | False   | False  | True        | True        |\n",
      "| F   | T   | T   | F   | False | False | False   | False  | True        | True        |\n",
      "| F   | T   | T   | T   | False | False | False   | False  | True        | True        |\n",
      "| F   | T   | T   | F   | False | False | False   | False  | True        | True        |\n",
      "| F   | T   | F   | T   | False | False | False   | False  | True        | True        |\n",
      "| F   | T   | F   | F   | False | True  | False   | True   | True        | False       |\n",
      "| F   | T   | F   | T   | False | False | False   | False  | True        | True        |\n",
      "| F   | T   | F   | F   | False | True  | False   | True   | True        | False       |\n",
      "| F   | F   | T   | T   | True  | True  | True    | True   | True        | True        |\n",
      "| F   | F   | T   | F   | True  | False | False   | True   | False       | True        |\n",
      "| F   | F   | T   | T   | True  | True  | True    | True   | True        | True        |\n",
      "| F   | F   | T   | F   | True  | False | False   | True   | False       | True        |\n",
      "| F   | F   | F   | T   | False | True  | False   | True   | True        | False       |\n",
      "| F   | F   | F   | F   | False | True  | False   | True   | True        | False       |\n",
      "| F   | F   | F   | T   | False | True  | False   | True   | True        | False       |\n",
      "| F   | F   | F   | F   | False | True  | False   | True   | True        | False       |\n"
     ]
    }
   ],
   "source": [
    "# Based on my name Julianna Cisewska - ((q→p) ⋀ (q → ¬r) ⋀ (p⋁r)) ⋀ ((r→t) ⋀ ¬ (t ⋀ q))\n",
    "#define A and B\n",
    "A = And(Implies(q, p), Implies(q, Not(r)), Or(p, r))\n",
    "B = And(Implies(r, t), Not(And(t, q)))\n",
    "\n",
    "table = new_basic_table()\n",
    "\n",
    "#add A and B\n",
    "table = add_logical_statement(table, A)\n",
    "table = add_logical_statement(table, B)\n",
    "#add AndAB\n",
    "table = add_logical_statement(table, A & B)\n",
    "#add OrAB\n",
    "table = add_logical_statement(table, A | B)\n",
    "#add ImpliesAB\n",
    "table = add_logical_statement(table, Implies(A, B))\n",
    "#add ImpliesBA\n",
    "table = add_logical_statement(table,Implies(B, A))\n",
    "#headers\n",
    "headers = ['p', 'q', 'r', 't', 'A', 'B', 'AndAB', 'OrAB', 'ImpliesAB', 'ImpliesBA']\n",
    "#print table\n",
    "print(tabulate(table, headers=headers, tablefmt=\"orgtbl\"))"
   ]
  },
  {
   "cell_type": "markdown",
   "metadata": {},
   "source": [
    "A: True = 16, False = 16\n",
    "B: True = 16, False = 16\n",
    "AndAB: True = 10, False = 22\n",
    "OrAB: True = 22, False = 10\n",
    "ImpliesAB: True = 26, False = 6\n",
    "ImpliesBA: True = 26, False = 6"
   ]
  },
  {
   "cell_type": "markdown",
   "metadata": {},
   "source": [
    "### Assignment step 2"
   ]
  },
  {
   "cell_type": "markdown",
   "metadata": {},
   "source": [
    "Can you comment on the result? Is it expected that some formules are more often true than others? "
   ]
  },
  {
   "cell_type": "markdown",
   "metadata": {},
   "source": [
    "Based on the truth table of ((q→p) ⋀ (q → ¬r) ⋀ (p⋁r) ⋀ (r→t) ⋀ ¬ (t ⋀ q)), we can observe more truths rather than falses. This is especially prominent for OrAB, \n",
    "which is expected since only one of two (A or B) should be true for it to end up being true. \n",
    "Similarly, it can also be observed with ImpliesAB and ImpliesBA.\n",
    "This is the case because an implication will only be false when the preceding factor is true and the product is false."
   ]
  },
  {
   "cell_type": "markdown",
   "metadata": {},
   "source": [
    "## Assignment step 3"
   ]
  },
  {
   "cell_type": "markdown",
   "metadata": {},
   "source": [
    "Can you find another formula that does not contain A and B as subformulas, looks completely different, that has the same truth table as AndAB? Define your formula and print the truthtable."
   ]
  },
  {
   "cell_type": "code",
   "execution_count": 74,
   "metadata": {},
   "outputs": [
    {
     "name": "stdout",
     "output_type": "stream",
     "text": [
      "| p   | q   | r   | t   | A     | B     | AndAB   | OrAB   | ImpliesAB   | ImpliesBA   | C     |\n",
      "|-----+-----+-----+-----+-------+-------+---------+--------+-------------+-------------+-------|\n",
      "| T   | T   | T   | T   | False | False | False   | False  | True        | True        | False |\n",
      "| T   | T   | T   | F   | False | False | False   | False  | True        | True        | False |\n",
      "| T   | T   | T   | T   | False | False | False   | False  | True        | True        | False |\n",
      "| T   | T   | T   | F   | False | False | False   | False  | True        | True        | False |\n",
      "| T   | T   | F   | T   | True  | False | False   | True   | False       | True        | False |\n",
      "| T   | T   | F   | F   | True  | True  | True    | True   | True        | True        | True  |\n",
      "| T   | T   | F   | T   | True  | False | False   | True   | False       | True        | False |\n",
      "| T   | T   | F   | F   | True  | True  | True    | True   | True        | True        | True  |\n",
      "| T   | F   | T   | T   | True  | True  | True    | True   | True        | True        | True  |\n",
      "| T   | F   | T   | F   | True  | False | False   | True   | False       | True        | False |\n",
      "| T   | F   | T   | T   | True  | True  | True    | True   | True        | True        | True  |\n",
      "| T   | F   | T   | F   | True  | False | False   | True   | False       | True        | False |\n",
      "| T   | F   | F   | T   | True  | True  | True    | True   | True        | True        | True  |\n",
      "| T   | F   | F   | F   | True  | True  | True    | True   | True        | True        | True  |\n",
      "| T   | F   | F   | T   | True  | True  | True    | True   | True        | True        | True  |\n",
      "| T   | F   | F   | F   | True  | True  | True    | True   | True        | True        | True  |\n",
      "| F   | T   | T   | T   | False | False | False   | False  | True        | True        | False |\n",
      "| F   | T   | T   | F   | False | False | False   | False  | True        | True        | False |\n",
      "| F   | T   | T   | T   | False | False | False   | False  | True        | True        | False |\n",
      "| F   | T   | T   | F   | False | False | False   | False  | True        | True        | False |\n",
      "| F   | T   | F   | T   | False | False | False   | False  | True        | True        | False |\n",
      "| F   | T   | F   | F   | False | True  | False   | True   | True        | False       | False |\n",
      "| F   | T   | F   | T   | False | False | False   | False  | True        | True        | False |\n",
      "| F   | T   | F   | F   | False | True  | False   | True   | True        | False       | False |\n",
      "| F   | F   | T   | T   | True  | True  | True    | True   | True        | True        | True  |\n",
      "| F   | F   | T   | F   | True  | False | False   | True   | False       | True        | False |\n",
      "| F   | F   | T   | T   | True  | True  | True    | True   | True        | True        | True  |\n",
      "| F   | F   | T   | F   | True  | False | False   | True   | False       | True        | False |\n",
      "| F   | F   | F   | T   | False | True  | False   | True   | True        | False       | False |\n",
      "| F   | F   | F   | F   | False | True  | False   | True   | True        | False       | False |\n",
      "| F   | F   | F   | T   | False | True  | False   | True   | True        | False       | False |\n",
      "| F   | F   | F   | F   | False | True  | False   | True   | True        | False       | False |\n"
     ]
    }
   ],
   "source": [
    "#define C\n",
    "C = And(And(Or(Not(q),p), Or(Not(q), Not(r)), Or(p, r)), And(Or(Not(r), t), Or(Not(t), Not(q))))\n",
    "#add C\n",
    "table = add_logical_statement(table, C)\n",
    "headers1 = ['p', 'q', 'r', 't', 'A', 'B', 'AndAB', 'OrAB', 'ImpliesAB', 'ImpliesBA', 'C']\n",
    "#print table\n",
    "print(tabulate(table, headers=headers1,tablefmt=\"orgtbl\"))"
   ]
  },
  {
   "cell_type": "markdown",
   "metadata": {},
   "source": [
    "Based on the truth table displayed above column AndAB and C have the same truth tables. "
   ]
  }
 ],
 "metadata": {
  "kernelspec": {
   "display_name": "Python 3 (ipykernel)",
   "language": "python",
   "name": "python3"
  },
  "language_info": {
   "codemirror_mode": {
    "name": "ipython",
    "version": 3
   },
   "file_extension": ".py",
   "mimetype": "text/x-python",
   "name": "python",
   "nbconvert_exporter": "python",
   "pygments_lexer": "ipython3",
   "version": "3.12.6"
  }
 },
 "nbformat": 4,
 "nbformat_minor": 4
}
